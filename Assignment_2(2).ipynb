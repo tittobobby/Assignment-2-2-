{
 "cells": [
  {
   "cell_type": "code",
   "execution_count": 13,
   "id": "dfa5f239",
   "metadata": {},
   "outputs": [
    {
     "name": "stdout",
     "output_type": "stream",
     "text": [
      "Enter the alphabet_1 : a\n",
      "Enter the alphabet_2 : z\n",
      "\n",
      "\n",
      "Dictionary from alphabets a - z with their corresponding ASCII values : \n",
      "\n",
      "\n",
      "{'a': 97, 'b': 98, 'c': 99, 'd': 100, 'e': 101, 'f': 102, 'g': 103, 'h': 104, 'i': 105, 'j': 106, 'k': 107, 'l': 108, 'm': 109, 'n': 110, 'o': 111, 'p': 112, 'q': 113, 'r': 114, 's': 115, 't': 116, 'u': 117, 'v': 118, 'w': 119, 'x': 120, 'y': 121, 'z': 122}\n"
     ]
    }
   ],
   "source": [
    "#Write a Python program to print a dictionary whose keys should be the alphabet from a-z and the value should be corresponding ASCII values\n",
    "\n",
    "alphabet_1 = input(\"Enter the alphabet_1 : \")\n",
    "x = ord(alphabet_1)\n",
    "alphabet_2 = input(\"Enter the alphabet_2 : \")\n",
    "y = ord(alphabet_2)\n",
    "list_1 = []\n",
    "list_2 = []\n",
    "for i in range(x, y+1):\n",
    "    list_1.append(chr(i))\n",
    "n = len(list_1)\n",
    "for i in range(x, y+1):\n",
    "    list_2.append((i))\n",
    "d = dict()\n",
    "print(f\"\\n\\nDictionary from alphabets {alphabet_1} - {alphabet_2} with their corresponding ASCII values : \\n\\n\")\n",
    "for i in range(n):\n",
    "    d.update({list_1[i]:list_2[i]})\n",
    "print(d)"
   ]
  }
 ],
 "metadata": {
  "kernelspec": {
   "display_name": "Python 3 (ipykernel)",
   "language": "python",
   "name": "python3"
  },
  "language_info": {
   "codemirror_mode": {
    "name": "ipython",
    "version": 3
   },
   "file_extension": ".py",
   "mimetype": "text/x-python",
   "name": "python",
   "nbconvert_exporter": "python",
   "pygments_lexer": "ipython3",
   "version": "3.9.12"
  }
 },
 "nbformat": 4,
 "nbformat_minor": 5
}
